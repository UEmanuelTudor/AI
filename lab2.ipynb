{
 "cells": [
  {
   "cell_type": "markdown",
   "metadata": {},
   "source": [
    "Laborator 2"
   ]
  },
  {
   "cell_type": "code",
   "execution_count": 1,
   "metadata": {},
   "outputs": [
    {
     "data": {
      "text/plain": [
       "True"
      ]
     },
     "execution_count": 1,
     "metadata": {},
     "output_type": "execute_result"
    }
   ],
   "source": [
    "5==5"
   ]
  },
  {
   "cell_type": "code",
   "execution_count": 2,
   "metadata": {},
   "outputs": [
    {
     "data": {
      "text/plain": [
       "False"
      ]
     },
     "execution_count": 2,
     "metadata": {},
     "output_type": "execute_result"
    }
   ],
   "source": [
    "5==6"
   ]
  },
  {
   "cell_type": "code",
   "execution_count": 3,
   "metadata": {},
   "outputs": [
    {
     "data": {
      "text/plain": [
       "bool"
      ]
     },
     "execution_count": 3,
     "metadata": {},
     "output_type": "execute_result"
    }
   ],
   "source": [
    "type(True)"
   ]
  },
  {
   "cell_type": "code",
   "execution_count": 5,
   "metadata": {},
   "outputs": [
    {
     "data": {
      "text/plain": [
       "True"
      ]
     },
     "execution_count": 5,
     "metadata": {},
     "output_type": "execute_result"
    }
   ],
   "source": [
    "a=[1,2,3]\n",
    "b=[1,2,3]\n",
    "a==b"
   ]
  },
  {
   "cell_type": "code",
   "execution_count": 6,
   "metadata": {},
   "outputs": [
    {
     "data": {
      "text/plain": [
       "False"
      ]
     },
     "execution_count": 6,
     "metadata": {},
     "output_type": "execute_result"
    }
   ],
   "source": [
    "a is b"
   ]
  },
  {
   "cell_type": "code",
   "execution_count": 7,
   "metadata": {},
   "outputs": [
    {
     "data": {
      "text/plain": [
       "True"
      ]
     },
     "execution_count": 7,
     "metadata": {},
     "output_type": "execute_result"
    }
   ],
   "source": [
    "17 and True"
   ]
  },
  {
   "cell_type": "code",
   "execution_count": 13,
   "metadata": {},
   "outputs": [
    {
     "name": "stdout",
     "output_type": "stream",
     "text": [
      "x este impar\n"
     ]
    }
   ],
   "source": [
    "x=5\n",
    "if x%2 ==0:\n",
    "    print('x este par')\n",
    "else:\n",
    "    print('x este impar')"
   ]
  },
  {
   "cell_type": "code",
   "execution_count": 14,
   "metadata": {},
   "outputs": [
    {
     "name": "stdout",
     "output_type": "stream",
     "text": [
      "x is less than y\n"
     ]
    }
   ],
   "source": [
    "x=10\n",
    "y=11\n",
    "if x==y:\n",
    "    print('x and y are equal')\n",
    "else: \n",
    "    if x<y:\n",
    "        print('x is less than y')\n",
    "    else:\n",
    "        print('x is greater than y')    "
   ]
  },
  {
   "cell_type": "code",
   "execution_count": 17,
   "metadata": {},
   "outputs": [
    {
     "name": "stdout",
     "output_type": "stream",
     "text": [
      "Introduceti o valoare numerica!\n"
     ]
    }
   ],
   "source": [
    "inp = input('Introduceti temperatura in grade Fahrenheit: ')\n",
    "try:\n",
    "    fahr = float(inp)\n",
    "    cel = (fahr - 32.0) * 5.0 / 9.0\n",
    "    print(cel)\n",
    "except:\n",
    "    print('Introduceti o valoare numerica!')"
   ]
  },
  {
   "cell_type": "code",
   "execution_count": 65,
   "metadata": {},
   "outputs": [
    {
     "name": "stdout",
     "output_type": "stream",
     "text": [
      "475.0\n"
     ]
    }
   ],
   "source": [
    "hours = int(input('Introduceti numarul de ore lucrate'))\n",
    "rate = int(input('Introduceti numarul ratei orare '))\n",
    "\n",
    "# if hours < 40 : \n",
    "#     rez = hours * rate\n",
    "#     print(rez)\n",
    "# else:\n",
    "#     rez = ((hours * rate) + ((hours-40)*rate*0.5))\n",
    "#     print(rez)\n",
    "try:\n",
    "    def salariu(hours,rate):\n",
    "        if hours < 40 : \n",
    "            rez = hours * rate\n",
    "        else:\n",
    "            rez = ((hours * rate) + ((hours-40)*rate*0.5))\n",
    "        return rez\n",
    "\n",
    "    print(salariu(hours,rate))\n",
    "except:\n",
    "    print('Introduceti o valoare numerica!')\n"
   ]
  }
 ],
 "metadata": {
  "kernelspec": {
   "display_name": "Python 3.8.8 ('base')",
   "language": "python",
   "name": "python3"
  },
  "language_info": {
   "codemirror_mode": {
    "name": "ipython",
    "version": 3
   },
   "file_extension": ".py",
   "mimetype": "text/x-python",
   "name": "python",
   "nbconvert_exporter": "python",
   "pygments_lexer": "ipython3",
   "version": "3.8.8"
  },
  "orig_nbformat": 4,
  "vscode": {
   "interpreter": {
    "hash": "23b08cf4acd367b242f41e769d4c353ac3973bd82d0cc5234643523b1867f550"
   }
  }
 },
 "nbformat": 4,
 "nbformat_minor": 2
}
