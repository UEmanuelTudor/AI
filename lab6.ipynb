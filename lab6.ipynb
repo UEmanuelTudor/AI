{
 "cells": [
  {
   "cell_type": "code",
   "execution_count": 1,
   "metadata": {},
   "outputs": [],
   "source": [
    "import pandas as pd\n",
    "dict_={'a':[11,21,31],'b':[12,22,32]} #construim un dictionar\n",
    "df=pd.DataFrame(dict_)"
   ]
  },
  {
   "cell_type": "code",
   "execution_count": 2,
   "metadata": {},
   "outputs": [
    {
     "name": "stdout",
     "output_type": "stream",
     "text": [
      "    a   b\n",
      "0  11  12\n",
      "1  21  22\n",
      "2  31  32\n",
      "a    21.0\n",
      "b    22.0\n",
      "dtype: float64\n"
     ]
    }
   ],
   "source": [
    "print(df.head())\n",
    "print(df.mean())# calculeaza media"
   ]
  },
  {
   "cell_type": "code",
   "execution_count": 10,
   "metadata": {},
   "outputs": [
    {
     "name": "stdout",
     "output_type": "stream",
     "text": [
      "[{'id': 1610612737, 'full_name': 'Atlanta Hawks', 'abbreviation': 'ATL', 'nickname': 'Hawks', 'city': 'Atlanta', 'state': 'Atlanta', 'year_founded': 1949}, {'id': 1610612738, 'full_name': 'Boston Celtics', 'abbreviation': 'BOS', 'nickname': 'Celtics', 'city': 'Boston', 'state': 'Massachusetts', 'year_founded': 1946}, {'id': 1610612739, 'full_name': 'Cleveland Cavaliers', 'abbreviation': 'CLE', 'nickname': 'Cavaliers', 'city': 'Cleveland', 'state': 'Ohio', 'year_founded': 1970}]\n"
     ]
    }
   ],
   "source": [
    "from nba_api.stats.static import teams #https://pypi.org/project/nba\u0002api/\n",
    "import matplotlib.pyplot as plt\n",
    "nba_teams = teams.get_teams() # preia echipele\n",
    "print(nba_teams[0:3])\n"
   ]
  },
  {
   "cell_type": "code",
   "execution_count": 12,
   "metadata": {},
   "outputs": [],
   "source": [
    "def one_dict(list_dict):\n",
    " keys=list_dict[0].keys()\n",
    " out_dict={key:[] for key in keys}\n",
    " for dict_ in list_dict:\n",
    "    for key, value in dict_.items():\n",
    "        out_dict[key].append(value)\n",
    " return out_dict "
   ]
  },
  {
   "cell_type": "code",
   "execution_count": 13,
   "metadata": {},
   "outputs": [
    {
     "name": "stdout",
     "output_type": "stream",
     "text": [
      "           id             full_name abbreviation   nickname         city  \\\n",
      "0  1610612737         Atlanta Hawks          ATL      Hawks      Atlanta   \n",
      "1  1610612738        Boston Celtics          BOS    Celtics       Boston   \n",
      "2  1610612739   Cleveland Cavaliers          CLE  Cavaliers    Cleveland   \n",
      "3  1610612740  New Orleans Pelicans          NOP   Pelicans  New Orleans   \n",
      "4  1610612741         Chicago Bulls          CHI      Bulls      Chicago   \n",
      "\n",
      "           state  year_founded  \n",
      "0        Atlanta          1949  \n",
      "1  Massachusetts          1946  \n",
      "2           Ohio          1970  \n",
      "3      Louisiana          2002  \n",
      "4       Illinois          1966  \n"
     ]
    }
   ],
   "source": [
    "dict_nba_team=one_dict(nba_teams)\n",
    "df_teams=pd.DataFrame(dict_nba_team)\n",
    "print(df_teams.head())"
   ]
  },
  {
   "cell_type": "code",
   "execution_count": 14,
   "metadata": {},
   "outputs": [
    {
     "name": "stdout",
     "output_type": "stream",
     "text": [
      "           id              full_name abbreviation  nickname          city  \\\n",
      "7  1610612744  Golden State Warriors          GSW  Warriors  Golden State   \n",
      "\n",
      "        state  year_founded  \n",
      "7  California          1946  \n",
      "1610612744\n"
     ]
    }
   ],
   "source": [
    "df_warriors=df_teams[df_teams['nickname']=='Warriors']\n",
    "print(df_warriors)\n",
    "id_warriors=df_warriors[['id']].values[0][0]\n",
    "print(id_warriors)"
   ]
  },
  {
   "cell_type": "code",
   "execution_count": 16,
   "metadata": {},
   "outputs": [],
   "source": [
    "from nba_api.stats.endpoints import leaguegamefinder\n",
    "gamefinder = leaguegamefinder.LeagueGameFinder(team_id_nullable=id_warriors)\n"
   ]
  },
  {
   "cell_type": "code",
   "execution_count": 17,
   "metadata": {},
   "outputs": [
    {
     "name": "stdout",
     "output_type": "stream",
     "text": [
      "  SEASON_ID     TEAM_ID TEAM_ABBREVIATION              TEAM_NAME     GAME_ID  \\\n",
      "0     22022  1610612744               GSW  Golden State Warriors  0022200205   \n",
      "1     22022  1610612744               GSW  Golden State Warriors  0022200197   \n",
      "2     22022  1610612744               GSW  Golden State Warriors  0022200182   \n",
      "3     22022  1610612744               GSW  Golden State Warriors  0022200156   \n",
      "4     22022  1610612744               GSW  Golden State Warriors  0022200128   \n",
      "\n",
      "    GAME_DATE      MATCHUP WL  MIN  PTS  ...  FT_PCT  OREB  DREB   REB  AST  \\\n",
      "0  2022-11-14  GSW vs. SAS  W  239  132  ...   0.938   5.0  35.0  40.0   35   \n",
      "1  2022-11-13    GSW @ SAC  L  238  115  ...   0.938   8.0  35.0  43.0   27   \n",
      "2  2022-11-11  GSW vs. CLE  W  240  106  ...   0.786   8.0  36.0  44.0   29   \n",
      "3  2022-11-07  GSW vs. SAC  W  241  116  ...   0.667   8.0  40.0  48.0   28   \n",
      "4  2022-11-04    GSW @ NOP  L  241  105  ...   0.920   3.0  26.0  29.0   23   \n",
      "\n",
      "   STL  BLK  TOV  PF  PLUS_MINUS  \n",
      "0    9    3   12  17        37.0  \n",
      "1    5    5   18  20        -7.0  \n",
      "2    5    3   14  27         5.0  \n",
      "3    5    4   15  21         3.0  \n",
      "4    7    1   22  25        -9.0  \n",
      "\n",
      "[5 rows x 28 columns]\n"
     ]
    }
   ],
   "source": [
    "games = gamefinder.get_data_frames()[0]\n",
    "print(games.head())\n"
   ]
  },
  {
   "cell_type": "code",
   "execution_count": 18,
   "metadata": {},
   "outputs": [],
   "source": [
    "games_home=games [games ['MATCHUP']=='GSW vs. TOR'] #meciuri acasa\n",
    "games_away=games [games ['MATCHUP']=='GSW @ TOR'] #meciuri in deplasar"
   ]
  },
  {
   "cell_type": "code",
   "execution_count": 19,
   "metadata": {},
   "outputs": [
    {
     "name": "stdout",
     "output_type": "stream",
     "text": [
      "     SEASON_ID     TEAM_ID TEAM_ABBREVIATION              TEAM_NAME  \\\n",
      "114      22021  1610612744               GSW  Golden State Warriors   \n",
      "139      22021  1610612744               GSW  Golden State Warriors   \n",
      "207      22020  1610612744               GSW  Golden State Warriors   \n",
      "222      22019  1610612744               GSW  Golden State Warriors   \n",
      "293      22019  1610612744               GSW  Golden State Warriors   \n",
      "298      42018  1610612744               GSW  Golden State Warriors   \n",
      "300      42018  1610612744               GSW  Golden State Warriors   \n",
      "301      42018  1610612744               GSW  Golden State Warriors   \n",
      "373      22018  1610612744               GSW  Golden State Warriors   \n",
      "513      22017  1610612744               GSW  Golden State Warriors   \n",
      "594      22016  1610612744               GSW  Golden State Warriors   \n",
      "734      22015  1610612744               GSW  Golden State Warriors   \n",
      "752      12015  1610612744               GSW  Golden State Warriors   \n",
      "831      22014  1610612744               GSW  Golden State Warriors   \n",
      "945      22013  1610612744               GSW  Golden State Warriors   \n",
      "1011     22012  1610612744               GSW  Golden State Warriors   \n",
      "1162     22010  1610612744               GSW  Golden State Warriors   \n",
      "1265     22009  1610612744               GSW  Golden State Warriors   \n",
      "1392     22008  1610612744               GSW  Golden State Warriors   \n",
      "1456     22007  1610612744               GSW  Golden State Warriors   \n",
      "1615     22006  1610612744               GSW  Golden State Warriors   \n",
      "1697     22005  1610612744               GSW  Golden State Warriors   \n",
      "1772     22004  1610612744               GSW  Golden State Warriors   \n",
      "1837     22003  1610612744               GSW  Golden State Warriors   \n",
      "1940     22002  1610612744               GSW  Golden State Warriors   \n",
      "2041     22001  1610612744               GSW  Golden State Warriors   \n",
      "2112     22000  1610612744               GSW  Golden State Warriors   \n",
      "2202     21999  1610612744               GSW  Golden State Warriors   \n",
      "2282     21997  1610612744               GSW  Golden State Warriors   \n",
      "2364     21996  1610612744               GSW  Golden State Warriors   \n",
      "\n",
      "         GAME_ID   GAME_DATE      MATCHUP WL  MIN  PTS  ...  FT_PCT  OREB  \\\n",
      "114   0022100252  2021-11-21  GSW vs. TOR  W  241  119  ...   0.792   8.0   \n",
      "139   1522100027  2021-08-11  GSW vs. TOR  W  200   90  ...   0.680  12.0   \n",
      "207   0022000148  2021-01-10  GSW vs. TOR  W  240  106  ...   0.895  12.0   \n",
      "222   0021900929  2020-03-05  GSW vs. TOR  L  240  113  ...   0.760  14.0   \n",
      "293   1521900020  2019-07-07  GSW vs. TOR  W  201   80  ...   0.923   6.0   \n",
      "298   0041800406  2019-06-13  GSW vs. TOR  L  240  110  ...   0.700  11.0   \n",
      "300   0041800404  2019-06-07  GSW vs. TOR  L  241   92  ...   0.667   8.0   \n",
      "301   0041800403  2019-06-05  GSW vs. TOR  L  241  109  ...   0.833  13.0   \n",
      "373   0021800415  2018-12-12  GSW vs. TOR  L  239   93  ...   0.692   5.0   \n",
      "513   0021700063  2017-10-25  GSW vs. TOR  W  241  117  ...   0.864   6.0   \n",
      "594   0021600485  2016-12-28  GSW vs. TOR  W  240  121  ...   0.833   9.0   \n",
      "734   0021500164  2015-11-17  GSW vs. TOR  W  239  115  ...   0.667   9.0   \n",
      "752   0011500009  2015-10-05  GSW vs. TOR  W  240   95  ...   0.750   4.0   \n",
      "831   0021400493  2015-01-02  GSW vs. TOR  W  240  126  ...   0.800  14.0   \n",
      "945   0021300268  2013-12-03  GSW vs. TOR  W  239  112  ...   0.800   9.0   \n",
      "1011  0021200895  2013-03-04  GSW vs. TOR  W  240  125  ...   0.821   6.0   \n",
      "1162  0021001079  2011-03-25  GSW vs. TOR  W  239  138  ...   0.813   7.0   \n",
      "1265  0020900982  2010-03-13  GSW vs. TOR  W  239  124  ...   0.818  18.0   \n",
      "1392  0020800457  2008-12-29  GSW vs. TOR  W  242  117  ...   0.879   6.0   \n",
      "1456  0020700962  2008-03-12  GSW vs. TOR  W  243  117  ...   0.778  11.0   \n",
      "1615  0020600107  2006-11-14  GSW vs. TOR  W  240  110  ...   0.652  14.0   \n",
      "1697  0020500189  2005-11-26  GSW vs. TOR  W  240  117  ...   0.750  10.0   \n",
      "1772  0020400416  2004-12-29  GSW vs. TOR  W  240  111  ...   0.857   9.0   \n",
      "1837  0020300735  2004-02-08  GSW vs. TOR  L  265   81  ...   0.621   8.0   \n",
      "1940  0020200416  2002-12-27  GSW vs. TOR  W  239  101  ...   0.939  19.0   \n",
      "2041  0020100115  2001-11-14  GSW vs. TOR  L  240   82  ...   0.667  20.0   \n",
      "2112  0020000281  2000-12-08  GSW vs. TOR  L  239   92  ...   0.630  18.0   \n",
      "2202  0029900193  1999-11-27  GSW vs. TOR  L  240   88  ...   0.706  20.0   \n",
      "2282  0029700925  1998-03-15  GSW vs. TOR  L  264   98  ...   0.583  26.0   \n",
      "2364  0029600927  1997-03-15  GSW vs. TOR  W  241  106  ...   0.708  16.0   \n",
      "\n",
      "      DREB   REB  AST  STL  BLK  TOV  PF  PLUS_MINUS  \n",
      "114   39.0  47.0   31    5    7   16  18        15.0  \n",
      "139   25.0  37.0   18   10    5   14  23         6.0  \n",
      "207   39.0  51.0   30    2   10   15  18         1.0  \n",
      "222   38.0  52.0   34    4    5   15  23        -8.0  \n",
      "293   37.0  43.0   18    8    3   20  25        10.0  \n",
      "298   31.0  42.0   28    9    6   16  23        -4.0  \n",
      "300   34.0  42.0   26    6    6   17  23       -13.0  \n",
      "301   28.0  41.0   25    8    3   14  21       -14.0  \n",
      "373   35.0  40.0   28    5   11   19  18       -20.0  \n",
      "513   31.0  37.0   32   10    7   17  15         5.0  \n",
      "594   42.0  51.0   33    4    9   20  16        10.0  \n",
      "734   25.0  34.0   31   10    6   20  29         5.0  \n",
      "752   33.0  37.0   29    8    7   17  22         8.0  \n",
      "831   31.0  45.0   35    8    8    9  18        21.0  \n",
      "945   27.0  36.0   27   11    2   12  16         9.0  \n",
      "1011  32.0  38.0   33    3    4   14  27         7.0  \n",
      "1162  33.0  40.0   33   12    5   10  22        38.0  \n",
      "1265  24.0  42.0   22   11    1   11  16        12.0  \n",
      "1392  31.0  37.0   26    8    9   12  23         6.0  \n",
      "1456  29.0  40.0   32    7    4   12  22        11.0  \n",
      "1615  28.0  42.0   27    7    5   11  25        11.0  \n",
      "1697  35.0  45.0   37    5    4   16  20        26.0  \n",
      "1772  31.0  40.0   24    7    4   17  22         6.0  \n",
      "1837  41.0  49.0   15    5    5   18  17        -3.0  \n",
      "1940  36.0  55.0   16    5    4   19  23         5.0  \n",
      "2041  39.0  59.0   17    6   10   17  20        -7.0  \n",
      "2112  18.0  36.0   23    6    4   20  25       -16.0  \n",
      "2202  34.0  54.0   22    4    5   19  16       -18.0  \n",
      "2282  42.0  68.0   20    7    7   16  22        -2.0  \n",
      "2364  30.0  46.0   30    5    2   13  17         4.0  \n",
      "\n",
      "[30 rows x 28 columns]\n"
     ]
    }
   ],
   "source": [
    "print(games_home)"
   ]
  },
  {
   "cell_type": "code",
   "execution_count": 20,
   "metadata": {},
   "outputs": [
    {
     "name": "stdout",
     "output_type": "stream",
     "text": [
      "     SEASON_ID     TEAM_ID TEAM_ABBREVIATION              TEAM_NAME  \\\n",
      "101      22021  1610612744               GSW  Golden State Warriors   \n",
      "168      22020  1610612744               GSW  Golden State Warriors   \n",
      "299      42018  1610612744               GSW  Golden State Warriors   \n",
      "302      42018  1610612744               GSW  Golden State Warriors   \n",
      "303      42018  1610612744               GSW  Golden State Warriors   \n",
      "379      22018  1610612744               GSW  Golden State Warriors   \n",
      "474      22017  1610612744               GSW  Golden State Warriors   \n",
      "616      22016  1610612744               GSW  Golden State Warriors   \n",
      "633      12016  1610612744               GSW  Golden State Warriors   \n",
      "635      22016  1610612744               GSW  Golden State Warriors   \n",
      "725      22015  1610612744               GSW  Golden State Warriors   \n",
      "806      22014  1610612744               GSW  Golden State Warriors   \n",
      "904      22013  1610612744               GSW  Golden State Warriors   \n",
      "1028     22012  1610612744               GSW  Golden State Warriors   \n",
      "1117     22011  1610612744               GSW  Golden State Warriors   \n",
      "1228     22010  1610612744               GSW  Golden State Warriors   \n",
      "1254     22009  1610612744               GSW  Golden State Warriors   \n",
      "1423     22008  1610612744               GSW  Golden State Warriors   \n",
      "1431     22008  1610612744               GSW  Golden State Warriors   \n",
      "1511     22007  1610612744               GSW  Golden State Warriors   \n",
      "1598     22006  1610612744               GSW  Golden State Warriors   \n",
      "1689     22005  1610612744               GSW  Golden State Warriors   \n",
      "1767     22004  1610612744               GSW  Golden State Warriors   \n",
      "1812     22003  1610612744               GSW  Golden State Warriors   \n",
      "1917     22002  1610612744               GSW  Golden State Warriors   \n",
      "2045     22001  1610612744               GSW  Golden State Warriors   \n",
      "2079     22000  1610612744               GSW  Golden State Warriors   \n",
      "2151     21999  1610612744               GSW  Golden State Warriors   \n",
      "2343     21997  1610612744               GSW  Golden State Warriors   \n",
      "2407     21996  1610612744               GSW  Golden State Warriors   \n",
      "\n",
      "         GAME_ID   GAME_DATE    MATCHUP WL  MIN  PTS  ...  FT_PCT  OREB  DREB  \\\n",
      "101   0022100443  2021-12-18  GSW @ TOR  L  240  100  ...   0.714  11.0  36.0   \n",
      "168   0022000737  2021-04-02  GSW @ TOR  L  240   77  ...   0.778   7.0  31.0   \n",
      "299   0041800405  2019-06-10  GSW @ TOR  W  240  106  ...   0.714   6.0  31.0   \n",
      "302   0041800402  2019-06-02  GSW @ TOR  W  240  109  ...   0.870   6.0  36.0   \n",
      "303   0041800401  2019-05-30  GSW @ TOR  L  239  109  ...   0.935   9.0  29.0   \n",
      "379   0021800316  2018-11-29  GSW @ TOR  L  265  128  ...   0.850  17.0  29.0   \n",
      "474   0021700631  2018-01-13  GSW @ TOR  W  239  127  ...   0.857   3.0  27.0   \n",
      "616   0021600165  2016-11-16  GSW @ TOR  W  240  127  ...   0.929   7.0  28.0   \n",
      "633   0011600001  2016-10-01  GSW @ TOR  L  241   93  ...   0.625   9.0  33.0   \n",
      "635   1521600051  2016-07-14  GSW @ TOR  L  198   69  ...   0.750  14.0  29.0   \n",
      "725   0021500290  2015-12-05  GSW @ TOR  W  239  112  ...   0.722   8.0  35.0   \n",
      "806   0021400861  2015-02-27  GSW @ TOR  W  240  113  ...   0.842   9.0  38.0   \n",
      "904   0021300884  2014-03-02  GSW @ TOR  L  240   98  ...   0.800  16.0  25.0   \n",
      "1028  0021200659  2013-01-28  GSW @ TOR  W  240  114  ...   0.800  13.0  36.0   \n",
      "1117  0021100548  2012-03-04  GSW @ TOR  L  241   75  ...   0.684  10.0  31.0   \n",
      "1228  0021000097  2010-11-08  GSW @ TOR  W  239  109  ...   0.813  11.0  31.0   \n",
      "1254  0020901145  2010-04-04  GSW @ TOR  W  240  113  ...   0.720   7.0  33.0   \n",
      "1423  0020800020  2008-10-31  GSW @ TOR  L  266  108  ...   0.684  17.0  29.0   \n",
      "1431  1520800043  2008-07-19  GSW @ TOR  W  201   95  ...   0.781  19.0  19.0   \n",
      "1511  0020700141  2007-11-18  GSW @ TOR  W  239  106  ...   0.667  12.0  35.0   \n",
      "1598  0020600351  2006-12-17  GSW @ TOR  L  240  115  ...   0.880   8.0  30.0   \n",
      "1689  0020500322  2005-12-16  GSW @ TOR  W  240  108  ...   0.652   6.0  27.0   \n",
      "1767  0020400487  2005-01-09  GSW @ TOR  L  240   87  ...   0.917  10.0  29.0   \n",
      "1812  0020301081  2004-03-31  GSW @ TOR  W  240   85  ...   0.714  10.0  35.0   \n",
      "1917  0020200732  2003-02-14  GSW @ TOR  W  264  118  ...   0.818  16.0  37.0   \n",
      "2045  0020100064  2001-11-07  GSW @ TOR  L  240   92  ...   0.732  20.0  32.0   \n",
      "2079  0020000765  2001-02-20  GSW @ TOR  L  240  102  ...   0.600  17.0  26.0   \n",
      "2151  0029900911  2000-03-14  GSW @ TOR  L  240   78  ...   0.462  16.0  31.0   \n",
      "2343  0029700034  1997-11-04  GSW @ TOR  L  241   86  ...   0.517  23.0  35.0   \n",
      "2407  0029600277  1996-12-10  GSW @ TOR  W  239  101  ...   0.842  22.0  29.0   \n",
      "\n",
      "       REB  AST  STL  BLK  TOV  PF  PLUS_MINUS  \n",
      "101   47.0   26    5    5   20  21       -19.0  \n",
      "168   38.0   19    5    4   21  18       -53.0  \n",
      "299   37.0   27    5    7   15  22         1.0  \n",
      "302   42.0   34    7    5   15  26         5.0  \n",
      "303   38.0   29    6    2   16  27        -9.0  \n",
      "379   46.0   27    6    5   14  22        -3.0  \n",
      "474   30.0   28    4    3    6  20         2.0  \n",
      "616   35.0   33    9    7   12  25         6.0  \n",
      "633   42.0   19   15    7   21  24        -4.0  \n",
      "635   43.0   16    9    3   17  25        -6.0  \n",
      "725   43.0   22    2    5   12  24         3.0  \n",
      "806   47.0   31   11    5   12  22        24.0  \n",
      "904   41.0   25    5    5   13  22        -6.0  \n",
      "1028  49.0   22    4    8   13  19        12.0  \n",
      "1117  41.0   17    6    3   12  20        -8.0  \n",
      "1228  42.0   19   13    7   20  26         7.0  \n",
      "1254  40.0   31    7    3   13  28         1.0  \n",
      "1423  46.0   20    6    6   18  25        -4.0  \n",
      "1431  38.0   15   10    5   17  26         5.0  \n",
      "1511  47.0   20    5    3   17  22         6.0  \n",
      "1598  38.0   23    3    2   17  27        -5.0  \n",
      "1689  33.0   27   10    1   11  23        10.0  \n",
      "1767  39.0   17    5    4   16  12       -22.0  \n",
      "1812  45.0   17    8    6    9  13         7.0  \n",
      "1917  53.0   16   12    7   13  22         4.0  \n",
      "2045  52.0   19    8    5   11  18       -17.0  \n",
      "2079  43.0   30   11   10   12  17       -11.0  \n",
      "2151  47.0   20    4    9   12  25        -7.0  \n",
      "2343  58.0   26    4    3   25  24       -18.0  \n",
      "2407  51.0   15    8    4   18  18        10.0  \n",
      "\n",
      "[30 rows x 28 columns]\n"
     ]
    }
   ],
   "source": [
    "print(games_away)"
   ]
  },
  {
   "cell_type": "code",
   "execution_count": 21,
   "metadata": {},
   "outputs": [
    {
     "name": "stderr",
     "output_type": "stream",
     "text": [
      "C:\\Users\\uifal\\AppData\\Local\\Temp\\ipykernel_9856\\1405800982.py:1: FutureWarning: The default value of numeric_only in DataFrame.mean is deprecated. In a future version, it will default to False. In addition, specifying 'numeric_only=None' is deprecated. Select only valid columns or specify the value of numeric_only to silence this warning.\n",
      "  games_home.mean()['PLUS_MINUS']\n",
      "C:\\Users\\uifal\\AppData\\Local\\Temp\\ipykernel_9856\\1405800982.py:2: FutureWarning: The default value of numeric_only in DataFrame.mean is deprecated. In a future version, it will default to False. In addition, specifying 'numeric_only=None' is deprecated. Select only valid columns or specify the value of numeric_only to silence this warning.\n",
      "  games_away.mean()['PLUS_MINUS']\n"
     ]
    },
    {
     "data": {
      "text/plain": [
       "-2.966666666666667"
      ]
     },
     "execution_count": 21,
     "metadata": {},
     "output_type": "execute_result"
    }
   ],
   "source": [
    "games_home.mean()['PLUS_MINUS']\n",
    "games_away.mean()['PLUS_MINUS']"
   ]
  },
  {
   "cell_type": "code",
   "execution_count": 22,
   "metadata": {},
   "outputs": [
    {
     "data": {
      "image/png": "[encoded data removed]",
      "text/plain": [
       "<Figure size 640x480 with 1 Axes>"
      ]
     },
     "metadata": {},
     "output_type": "display_data"
    }
   ],
   "source": [
    "fig, ax = plt.subplots()\n",
    "games_away.plot(x='GAME_DATE',y='PLUS_MINUS', ax=ax)\n",
    "games_home.plot(x='GAME_DATE',y='PLUS_MINUS', ax=ax)\n",
    "ax.legend([\"away\", \"home\"])\n",
    "plt.show()"
   ]
  },
  {
   "cell_type": "code",
   "execution_count": null,
   "metadata": {},
   "outputs": [],
   "source": []
  }
 ],
 "metadata": {
  "kernelspec": {
   "display_name": "Python 3.10.8 64-bit (microsoft store)",
   "language": "python",
   "name": "python3"
  },
  "language_info": {
   "codemirror_mode": {
    "name": "ipython",
    "version": 3
   },
   "file_extension": ".py",
   "mimetype": "text/x-python",
   "name": "python",
   "nbconvert_exporter": "python",
   "pygments_lexer": "ipython3",
   "version": "3.10.8"
  },
  "orig_nbformat": 4,
  "vscode": {
   "interpreter": {
    "hash": "a4c62ff722764b4c47152efcf907f92e25345188b88a418d9cbada8072082480"
   }
  }
 },
 "nbformat": 4,
 "nbformat_minor": 2
}
